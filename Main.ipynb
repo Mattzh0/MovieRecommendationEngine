{
  "cells": [
    {
      "cell_type": "code",
      "execution_count": 1,
      "metadata": {
        "id": "mfV2F-dqLRGI"
      },
      "outputs": [],
      "source": [
        "import pandas as pd"
      ]
    },
    {
      "cell_type": "code",
      "execution_count": 2,
      "metadata": {
        "colab": {
          "base_uri": "https://localhost:8080/",
          "height": 206
        },
        "id": "vcnoAmYtLWqx",
        "outputId": "1c11404d-8498-495c-ec04-2546dcbe9ef6"
      },
      "outputs": [
        {
          "data": {
            "text/html": [
              "<div>\n",
              "<style scoped>\n",
              "    .dataframe tbody tr th:only-of-type {\n",
              "        vertical-align: middle;\n",
              "    }\n",
              "\n",
              "    .dataframe tbody tr th {\n",
              "        vertical-align: top;\n",
              "    }\n",
              "\n",
              "    .dataframe thead th {\n",
              "        text-align: right;\n",
              "    }\n",
              "</style>\n",
              "<table border=\"1\" class=\"dataframe\">\n",
              "  <thead>\n",
              "    <tr style=\"text-align: right;\">\n",
              "      <th></th>\n",
              "      <th>id</th>\n",
              "      <th>title</th>\n",
              "      <th>genre</th>\n",
              "      <th>original_language</th>\n",
              "      <th>overview</th>\n",
              "      <th>popularity</th>\n",
              "      <th>release_date</th>\n",
              "      <th>vote_average</th>\n",
              "      <th>vote_count</th>\n",
              "    </tr>\n",
              "  </thead>\n",
              "  <tbody>\n",
              "    <tr>\n",
              "      <th>0</th>\n",
              "      <td>278</td>\n",
              "      <td>The Shawshank Redemption</td>\n",
              "      <td>Drama,Crime</td>\n",
              "      <td>en</td>\n",
              "      <td>Framed in the 1940s for the double murder of h...</td>\n",
              "      <td>94.075</td>\n",
              "      <td>1994-09-23</td>\n",
              "      <td>8.7</td>\n",
              "      <td>21862</td>\n",
              "    </tr>\n",
              "    <tr>\n",
              "      <th>1</th>\n",
              "      <td>19404</td>\n",
              "      <td>Dilwale Dulhania Le Jayenge</td>\n",
              "      <td>Comedy,Drama,Romance</td>\n",
              "      <td>hi</td>\n",
              "      <td>Raj is a rich, carefree, happy-go-lucky second...</td>\n",
              "      <td>25.408</td>\n",
              "      <td>1995-10-19</td>\n",
              "      <td>8.7</td>\n",
              "      <td>3731</td>\n",
              "    </tr>\n",
              "    <tr>\n",
              "      <th>2</th>\n",
              "      <td>238</td>\n",
              "      <td>The Godfather</td>\n",
              "      <td>Drama,Crime</td>\n",
              "      <td>en</td>\n",
              "      <td>Spanning the years 1945 to 1955, a chronicle o...</td>\n",
              "      <td>90.585</td>\n",
              "      <td>1972-03-14</td>\n",
              "      <td>8.7</td>\n",
              "      <td>16280</td>\n",
              "    </tr>\n",
              "    <tr>\n",
              "      <th>3</th>\n",
              "      <td>424</td>\n",
              "      <td>Schindler's List</td>\n",
              "      <td>Drama,History,War</td>\n",
              "      <td>en</td>\n",
              "      <td>The true story of how businessman Oskar Schind...</td>\n",
              "      <td>44.761</td>\n",
              "      <td>1993-12-15</td>\n",
              "      <td>8.6</td>\n",
              "      <td>12959</td>\n",
              "    </tr>\n",
              "    <tr>\n",
              "      <th>4</th>\n",
              "      <td>240</td>\n",
              "      <td>The Godfather: Part II</td>\n",
              "      <td>Drama,Crime</td>\n",
              "      <td>en</td>\n",
              "      <td>In the continuing saga of the Corleone crime f...</td>\n",
              "      <td>57.749</td>\n",
              "      <td>1974-12-20</td>\n",
              "      <td>8.6</td>\n",
              "      <td>9811</td>\n",
              "    </tr>\n",
              "  </tbody>\n",
              "</table>\n",
              "</div>"
            ],
            "text/plain": [
              "      id                        title                 genre original_language  \\\n",
              "0    278     The Shawshank Redemption           Drama,Crime                en   \n",
              "1  19404  Dilwale Dulhania Le Jayenge  Comedy,Drama,Romance                hi   \n",
              "2    238                The Godfather           Drama,Crime                en   \n",
              "3    424             Schindler's List     Drama,History,War                en   \n",
              "4    240       The Godfather: Part II           Drama,Crime                en   \n",
              "\n",
              "                                            overview  popularity release_date  \\\n",
              "0  Framed in the 1940s for the double murder of h...      94.075   1994-09-23   \n",
              "1  Raj is a rich, carefree, happy-go-lucky second...      25.408   1995-10-19   \n",
              "2  Spanning the years 1945 to 1955, a chronicle o...      90.585   1972-03-14   \n",
              "3  The true story of how businessman Oskar Schind...      44.761   1993-12-15   \n",
              "4  In the continuing saga of the Corleone crime f...      57.749   1974-12-20   \n",
              "\n",
              "   vote_average  vote_count  \n",
              "0           8.7       21862  \n",
              "1           8.7        3731  \n",
              "2           8.7       16280  \n",
              "3           8.6       12959  \n",
              "4           8.6        9811  "
            ]
          },
          "execution_count": 2,
          "metadata": {},
          "output_type": "execute_result"
        }
      ],
      "source": [
        "movie_data = pd.read_csv('dataset.csv')\n",
        "movie_data.head()"
      ]
    },
    {
      "cell_type": "code",
      "execution_count": 3,
      "metadata": {
        "id": "l_qg7ftCMnEm"
      },
      "outputs": [],
      "source": [
        "# focus on only the four following features, the rest are not relevant for recommending movies\n",
        "# update movie_data with only those four features\n",
        "movie_data = movie_data[['id','title','genre','overview']]\n"
      ]
    },
    {
      "cell_type": "code",
      "execution_count": 4,
      "metadata": {
        "colab": {
          "base_uri": "https://localhost:8080/"
        },
        "id": "QlcZG1MuNhNz",
        "outputId": "f9ab520d-af52-4745-d491-2ba6226c936e"
      },
      "outputs": [],
      "source": [
        "# create a new feature 'tags', which combines the genre along with the overview (this will simplify the recommendation process a bit)\n",
        "# once 'tags' is added, create a new dataset that drops 'genre' and 'overview'\n",
        "movie_data['tags'] = movie_data['genre'] + movie_data['overview']\n",
        "new_data = movie_data.drop(columns=['genre', 'overview'])"
      ]
    },
    {
      "cell_type": "code",
      "execution_count": 6,
      "metadata": {
        "id": "mC7Dzx2DO1BQ"
      },
      "outputs": [],
      "source": [
        "# convert the text from 'tags' into a vector for natural language processing\n",
        "from sklearn.feature_extraction.text import CountVectorizer\n",
        "cv = CountVectorizer(max_features=10000, stop_words='english')"
      ]
    },
    {
      "cell_type": "code",
      "execution_count": 7,
      "metadata": {
        "colab": {
          "base_uri": "https://localhost:8080/"
        },
        "id": "sbZ05gK3PVEe",
        "outputId": "26f595e7-4d94-410a-d388-d93913489676"
      },
      "outputs": [
        {
          "data": {
            "text/plain": [
              "(10000, 10000)"
            ]
          },
          "execution_count": 7,
          "metadata": {},
          "output_type": "execute_result"
        }
      ],
      "source": [
        "vector = cv.fit_transform(new_data['tags'].values.astype('U')).toarray()\n",
        "vector.shape"
      ]
    },
    {
      "cell_type": "code",
      "execution_count": 8,
      "metadata": {
        "id": "_zDHdf4ZQ_xD"
      },
      "outputs": [],
      "source": [
        "# use cosine similarity to compare how similar the tags are to each other\n",
        "from sklearn.metrics.pairwise import cosine_similarity\n",
        "similarity = cosine_similarity(vector)"
      ]
    },
    {
      "cell_type": "code",
      "execution_count": 9,
      "metadata": {
        "colab": {
          "base_uri": "https://localhost:8080/"
        },
        "id": "rNwtekvUTtQi",
        "outputId": "38db7f2d-fbea-4ec3-bfb3-5a8881501425"
      },
      "outputs": [
        {
          "data": {
            "text/plain": [
              "array([[1.        , 0.06253054, 0.05802589, ..., 0.07963978, 0.07597372,\n",
              "        0.03798686],\n",
              "       [0.06253054, 1.        , 0.08980265, ..., 0.        , 0.        ,\n",
              "        0.        ],\n",
              "       [0.05802589, 0.08980265, 1.        , ..., 0.02541643, 0.03636965,\n",
              "        0.        ],\n",
              "       ...,\n",
              "       [0.07963978, 0.        , 0.02541643, ..., 1.        , 0.03327792,\n",
              "        0.03327792],\n",
              "       [0.07597372, 0.        , 0.03636965, ..., 0.03327792, 1.        ,\n",
              "        0.04761905],\n",
              "       [0.03798686, 0.        , 0.        , ..., 0.03327792, 0.04761905,\n",
              "        1.        ]])"
            ]
          },
          "execution_count": 9,
          "metadata": {},
          "output_type": "execute_result"
        }
      ],
      "source": [
        "# the similarity table can be visualized as a 2D table with both the x and y axis as tag1, tag2, tag3...\n",
        "# for example, the major diagonal value is always 1 because the angle between the same tag (tag1 v. tag1, tag2 v. tag2, ...) is always 0, and cos(0) = 1.\n",
        "similarity"
      ]
    },
    {
      "cell_type": "code",
      "execution_count": 10,
      "metadata": {
        "colab": {
          "base_uri": "https://localhost:8080/"
        },
        "id": "M1LVcKlsRAKC",
        "outputId": "45e0a00b-020c-4cf6-b5b9-e62043477abf"
      },
      "outputs": [],
      "source": [
        "# pick any movie (in this case the 2nd movie \"The Godfather\"), list out all of the (index,distance) pairs for that movie, and sort them in reverse order by the distance value\n",
        "distances = sorted(list(enumerate(similarity[2])), reverse=True, key=lambda vector:vector[1])"
      ]
    },
    {
      "cell_type": "code",
      "execution_count": 11,
      "metadata": {
        "colab": {
          "base_uri": "https://localhost:8080/"
        },
        "id": "mdOJtlBsRA8q",
        "outputId": "5e6b3620-1873-4a2f-d4fb-68c82af18abd"
      },
      "outputs": [
        {
          "name": "stdout",
          "output_type": "stream",
          "text": [
            "The Godfather\n",
            "The Godfather: Part II\n",
            "Felon\n",
            "House of Gucci\n",
            "Gotti\n"
          ]
        }
      ],
      "source": [
        "# match the indices from distances to the title\n",
        "# for this recommendation system, we will only recommend the 5 most similar movies\n",
        "for (i,d) in distances[0:5]:\n",
        "  print(new_data.iloc[i].title)"
      ]
    },
    {
      "cell_type": "code",
      "execution_count": 12,
      "metadata": {
        "id": "9vvziVw2YOHb"
      },
      "outputs": [],
      "source": [
        "def recommend(movie):\n",
        "  # find the index of the movie entry that matches the input\n",
        "  index = new_data[new_data['title']==movie].index[0]\n",
        "\n",
        "  # calculate the (index,distance) pairs for the movie at the calculated index above\n",
        "  distances = sorted(list(enumerate(similarity[index])), reverse=True, key=lambda vector:vector[1])\n",
        "\n",
        "  # note that distances[1:6] is being used instead of distances[0:5], that is because we don't want to recommend the same input movie\n",
        "  # the input movie will always be the only movie with a similarity value of 1\n",
        "  for (i,d) in distances[1:6]:\n",
        "    print(new_data.iloc[i].title)"
      ]
    },
    {
      "cell_type": "code",
      "execution_count": 13,
      "metadata": {
        "id": "d2_a2O-yY7sM"
      },
      "outputs": [],
      "source": [
        "# use the pickle files for the web recommender application\n",
        "import pickle"
      ]
    },
    {
      "cell_type": "code",
      "execution_count": 14,
      "metadata": {
        "id": "utA3Zs7gZYjT"
      },
      "outputs": [],
      "source": [
        "pickle.dump(new_data, open('movies_list.pkl', 'wb'))"
      ]
    },
    {
      "cell_type": "code",
      "execution_count": 18,
      "metadata": {
        "id": "7ugl6cP5ZjcD"
      },
      "outputs": [],
      "source": [
        "similarity = pickle.dump(similarity, open('similarity.pkl', 'wb'))"
      ]
    },
    {
      "cell_type": "code",
      "execution_count": 15,
      "metadata": {
        "colab": {
          "base_uri": "https://localhost:8080/",
          "height": 424
        },
        "id": "RJDqYmahZpxL",
        "outputId": "0b14e05a-0c01-431d-8cff-535ea91c6d68"
      },
      "outputs": [
        {
          "data": {
            "text/html": [
              "<div>\n",
              "<style scoped>\n",
              "    .dataframe tbody tr th:only-of-type {\n",
              "        vertical-align: middle;\n",
              "    }\n",
              "\n",
              "    .dataframe tbody tr th {\n",
              "        vertical-align: top;\n",
              "    }\n",
              "\n",
              "    .dataframe thead th {\n",
              "        text-align: right;\n",
              "    }\n",
              "</style>\n",
              "<table border=\"1\" class=\"dataframe\">\n",
              "  <thead>\n",
              "    <tr style=\"text-align: right;\">\n",
              "      <th></th>\n",
              "      <th>id</th>\n",
              "      <th>title</th>\n",
              "      <th>tags</th>\n",
              "    </tr>\n",
              "  </thead>\n",
              "  <tbody>\n",
              "    <tr>\n",
              "      <th>0</th>\n",
              "      <td>278</td>\n",
              "      <td>The Shawshank Redemption</td>\n",
              "      <td>Drama,CrimeFramed in the 1940s for the double ...</td>\n",
              "    </tr>\n",
              "    <tr>\n",
              "      <th>1</th>\n",
              "      <td>19404</td>\n",
              "      <td>Dilwale Dulhania Le Jayenge</td>\n",
              "      <td>Comedy,Drama,RomanceRaj is a rich, carefree, h...</td>\n",
              "    </tr>\n",
              "    <tr>\n",
              "      <th>2</th>\n",
              "      <td>238</td>\n",
              "      <td>The Godfather</td>\n",
              "      <td>Drama,CrimeSpanning the years 1945 to 1955, a ...</td>\n",
              "    </tr>\n",
              "    <tr>\n",
              "      <th>3</th>\n",
              "      <td>424</td>\n",
              "      <td>Schindler's List</td>\n",
              "      <td>Drama,History,WarThe true story of how busines...</td>\n",
              "    </tr>\n",
              "    <tr>\n",
              "      <th>4</th>\n",
              "      <td>240</td>\n",
              "      <td>The Godfather: Part II</td>\n",
              "      <td>Drama,CrimeIn the continuing saga of the Corle...</td>\n",
              "    </tr>\n",
              "    <tr>\n",
              "      <th>...</th>\n",
              "      <td>...</td>\n",
              "      <td>...</td>\n",
              "      <td>...</td>\n",
              "    </tr>\n",
              "    <tr>\n",
              "      <th>9995</th>\n",
              "      <td>10196</td>\n",
              "      <td>The Last Airbender</td>\n",
              "      <td>Action,Adventure,FantasyThe story follows the ...</td>\n",
              "    </tr>\n",
              "    <tr>\n",
              "      <th>9996</th>\n",
              "      <td>331446</td>\n",
              "      <td>Sharknado 3: Oh Hell No!</td>\n",
              "      <td>Action,TV Movie,Science Fiction,Comedy,Adventu...</td>\n",
              "    </tr>\n",
              "    <tr>\n",
              "      <th>9997</th>\n",
              "      <td>13995</td>\n",
              "      <td>Captain America</td>\n",
              "      <td>Action,Science Fiction,WarDuring World War II,...</td>\n",
              "    </tr>\n",
              "    <tr>\n",
              "      <th>9998</th>\n",
              "      <td>2312</td>\n",
              "      <td>In the Name of the King: A Dungeon Siege Tale</td>\n",
              "      <td>Adventure,Fantasy,Action,DramaA man named Farm...</td>\n",
              "    </tr>\n",
              "    <tr>\n",
              "      <th>9999</th>\n",
              "      <td>455957</td>\n",
              "      <td>Domino</td>\n",
              "      <td>Thriller,Action,CrimeSeeking justice for his p...</td>\n",
              "    </tr>\n",
              "  </tbody>\n",
              "</table>\n",
              "<p>10000 rows × 3 columns</p>\n",
              "</div>"
            ],
            "text/plain": [
              "          id                                          title  \\\n",
              "0        278                       The Shawshank Redemption   \n",
              "1      19404                    Dilwale Dulhania Le Jayenge   \n",
              "2        238                                  The Godfather   \n",
              "3        424                               Schindler's List   \n",
              "4        240                         The Godfather: Part II   \n",
              "...      ...                                            ...   \n",
              "9995   10196                             The Last Airbender   \n",
              "9996  331446                       Sharknado 3: Oh Hell No!   \n",
              "9997   13995                                Captain America   \n",
              "9998    2312  In the Name of the King: A Dungeon Siege Tale   \n",
              "9999  455957                                         Domino   \n",
              "\n",
              "                                                   tags  \n",
              "0     Drama,CrimeFramed in the 1940s for the double ...  \n",
              "1     Comedy,Drama,RomanceRaj is a rich, carefree, h...  \n",
              "2     Drama,CrimeSpanning the years 1945 to 1955, a ...  \n",
              "3     Drama,History,WarThe true story of how busines...  \n",
              "4     Drama,CrimeIn the continuing saga of the Corle...  \n",
              "...                                                 ...  \n",
              "9995  Action,Adventure,FantasyThe story follows the ...  \n",
              "9996  Action,TV Movie,Science Fiction,Comedy,Adventu...  \n",
              "9997  Action,Science Fiction,WarDuring World War II,...  \n",
              "9998  Adventure,Fantasy,Action,DramaA man named Farm...  \n",
              "9999  Thriller,Action,CrimeSeeking justice for his p...  \n",
              "\n",
              "[10000 rows x 3 columns]"
            ]
          },
          "execution_count": 15,
          "metadata": {},
          "output_type": "execute_result"
        }
      ],
      "source": [
        "pickle.load(open('movies_list.pkl', 'rb'))"
      ]
    }
  ],
  "metadata": {
    "colab": {
      "provenance": []
    },
    "kernelspec": {
      "display_name": "Python 3",
      "name": "python3"
    },
    "language_info": {
      "codemirror_mode": {
        "name": "ipython",
        "version": 3
      },
      "file_extension": ".py",
      "mimetype": "text/x-python",
      "name": "python",
      "nbconvert_exporter": "python",
      "pygments_lexer": "ipython3",
      "version": "3.12.1"
    }
  },
  "nbformat": 4,
  "nbformat_minor": 0
}
